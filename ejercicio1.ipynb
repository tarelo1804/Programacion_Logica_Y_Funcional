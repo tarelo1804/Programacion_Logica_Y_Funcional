{
 "cells": [
  {
   "cell_type": "markdown",
   "id": "1b433c46",
   "metadata": {},
   "source": [
    "# Ejercicio 1\n",
    "Ejercicio 1 de Evaluación de Expresiones en Python\n",
    "\n",
    "$ \\frac {\\pi ^ 2} {6} = \\sum_{n=1}^{\\infty} \\frac{1}{n ^ 2} $"
   ]
  },
  {
   "cell_type": "code",
   "execution_count": 4,
   "id": "0856b432",
   "metadata": {},
   "outputs": [
    {
     "name": "stdout",
     "output_type": "stream",
     "text": [
      "Valor teórico: 1.6449340668482264, Aproximacion: 1.5397677311665408\n",
      "Error: 0.10516633568168565\n"
     ]
    }
   ],
   "source": [
    "import math\n",
    "res = math.pi **2 / 6\n",
    "res2 = 0\n",
    "for n in range(1, 10):\n",
    "    res2 += 1 / (n ** 2)\n",
    "print(f\"Valor teórico: {res}, Aproximacion: {res2}\")\n",
    "error = abs(res - res2)\n",
    "print(f\"Error: {error}\")"
   ]
  },
  {
   "cell_type": "markdown",
   "id": "12f3eb83",
   "metadata": {},
   "source": [
    "### Expresion 1\n"
   ]
  },
  {
   "cell_type": "code",
   "execution_count": null,
   "id": "47df7380",
   "metadata": {},
   "outputs": [
    {
     "name": "stdout",
     "output_type": "stream",
     "text": [
      "19\n"
     ]
    }
   ],
   "source": [
    "resutado = 3 + 4 * 2  ** 2\n",
    "print(resutado) # ¿Cuál crees que es el resultado?"
   ]
  }
 ],
 "metadata": {
  "kernelspec": {
   "display_name": "Python 3",
   "language": "python",
   "name": "python3"
  },
  "language_info": {
   "codemirror_mode": {
    "name": "ipython",
    "version": 3
   },
   "file_extension": ".py",
   "mimetype": "text/x-python",
   "name": "python",
   "nbconvert_exporter": "python",
   "pygments_lexer": "ipython3",
   "version": "3.13.6"
  }
 },
 "nbformat": 4,
 "nbformat_minor": 5
}
