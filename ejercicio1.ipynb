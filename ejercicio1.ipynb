{
 "cells": [
  {
   "cell_type": "markdown",
   "id": "1b433c46",
   "metadata": {},
   "source": [
    "# Ejercicio 1\n",
    "Ejercicio 1 de Evaluación de Expresiones en Python\n",
    "\n",
    "$ \\frac {\\pi ^ 2} {6} = \\sum_{n=1}^{\\infty} \\frac{1}{n ^ 2} $"
   ]
  },
  {
   "cell_type": "code",
   "execution_count": 4,
   "id": "0856b432",
   "metadata": {},
   "outputs": [
    {
     "name": "stdout",
     "output_type": "stream",
     "text": [
      "Valor teórico: 1.6449340668482264, Aproximacion: 1.5397677311665408\n",
      "Error: 0.10516633568168565\n"
     ]
    }
   ],
   "source": [
    "import math\n",
    "res = math.pi **2 / 6\n",
    "res2 = 0\n",
    "for n in range(1, 10):\n",
    "    res2 += 1 / (n ** 2)\n",
    "print(f\"Valor teórico: {res}, Aproximacion: {res2}\")\n",
    "error = abs(res - res2)\n",
    "print(f\"Error: {error}\")"
   ]
  },
  {
   "cell_type": "markdown",
   "id": "12f3eb83",
   "metadata": {},
   "source": [
    "### Expresion 1\n"
   ]
  },
  {
   "cell_type": "code",
   "execution_count": null,
   "id": "47df7380",
   "metadata": {},
   "outputs": [
    {
     "name": "stdout",
     "output_type": "stream",
     "text": [
      "19\n"
     ]
    }
   ],
   "source": [
    "resutado = 3 + 4 * 2  ** 2\n",
    "print(resutado) # ¿Cuál crees que es el resultado?"
   ]
  },
  {
   "cell_type": "markdown",
   "id": "d55ce148",
   "metadata": {},
   "source": [
    "## Expresiones en Python"
   ]
  },
  {
   "cell_type": "markdown",
   "id": "04b1ef67",
   "metadata": {},
   "source": [
    "### Expresion 1"
   ]
  },
  {
   "cell_type": "markdown",
   "id": "691633c2",
   "metadata": {},
   "source": [
    "expr1 = (3 + 2) * 4\n",
    "\n",
    "- Primero se realiza lo que está dentro del paréntesis (3 + 2), que al hacer la suma da como resultado 5\n",
    "\n",
    "- Después el resultado del paréntesis se multiplica por 4 dando como resultado 20\n",
    "\n",
    "- Resultado final : 20"
   ]
  },
  {
   "cell_type": "code",
   "execution_count": 1,
   "id": "fc56c4d2",
   "metadata": {},
   "outputs": [
    {
     "name": "stdout",
     "output_type": "stream",
     "text": [
      "20\n"
     ]
    }
   ],
   "source": [
    "expr1 = (3 + 2) * 4\n",
    "print(expr1)  # ¿Cuál crees que es el resultado?"
   ]
  },
  {
   "cell_type": "markdown",
   "id": "8c368494",
   "metadata": {},
   "source": [
    "### Expresion 2"
   ]
  },
  {
   "cell_type": "markdown",
   "id": "01f1c718",
   "metadata": {},
   "source": [
    "expr2 = 2 * 3 ** 2\n",
    "- Primero se realiza el exponente (3 ^ 2) que da como resultado 9\n",
    "\n",
    "- Por último se realiza la multiplicación de 2 * 9 (resultado de la exponencia)\n",
    "\n",
    "- Resultado final: 18"
   ]
  },
  {
   "cell_type": "code",
   "execution_count": 2,
   "id": "08c40931",
   "metadata": {},
   "outputs": [
    {
     "name": "stdout",
     "output_type": "stream",
     "text": [
      "18\n"
     ]
    }
   ],
   "source": [
    "exp2 = 2 * 3 ** 2\n",
    "print(exp2)  # ¿Cuál crees que es el resultado?"
   ]
  },
  {
   "cell_type": "markdown",
   "id": "0d4c5c82",
   "metadata": {},
   "source": [
    "### Expresion 3"
   ]
  },
  {
   "cell_type": "markdown",
   "id": "44da2e18",
   "metadata": {},
   "source": [
    "expr3 = 10 // 3 + 2\n",
    "- Primero se realiza la división de 10/3, dando como resultado 3.333333333333333 (pero el // es una division entera, por lo que no toma \n",
    "números enteros), dando solamente como resultado 3\n",
    "\n",
    "- El 3 se suma con el valor de 2 dando 5\n",
    "\n",
    "- Resultado final: 5"
   ]
  },
  {
   "cell_type": "code",
   "execution_count": 3,
   "id": "b4d57445",
   "metadata": {},
   "outputs": [
    {
     "name": "stdout",
     "output_type": "stream",
     "text": [
      "5\n"
     ]
    }
   ],
   "source": [
    "expr3 = 10 // 3 + 2\n",
    "print(expr3)  # ¿Cuál crees que es el resultado?"
   ]
  },
  {
   "cell_type": "markdown",
   "id": "058dd034",
   "metadata": {},
   "source": [
    "### Expresion 4"
   ]
  },
  {
   "cell_type": "markdown",
   "id": "a9a6e022",
   "metadata": {},
   "source": [
    "expr4 = 17 % 5 * 2\n",
    "- Primero se realiza la division de 17/5 (pero en vez de quedarnos con el resultado nos quedamos con residuo, eso significa %),\n",
    "17/5 da 3.4 (no se toma decimal, asi que 3). Ese 3 se multiplica por 5 dando como resultado 15.\n",
    "Y por último se resta el 17 - 15 dando como resultado 2, siendo este el residuo.\n",
    "\n",
    "- El valor del residuo se suma 2 dando como resultado 4\n",
    "\n",
    "- Resultado final: 4"
   ]
  },
  {
   "cell_type": "code",
   "execution_count": 4,
   "id": "5ead3751",
   "metadata": {},
   "outputs": [
    {
     "name": "stdout",
     "output_type": "stream",
     "text": [
      "4\n"
     ]
    }
   ],
   "source": [
    "expr4 = 17 % 5 * 2\n",
    "print(expr4)  # ¿Cuál crees que es el resultado?"
   ]
  },
  {
   "cell_type": "markdown",
   "id": "4f856576",
   "metadata": {},
   "source": [
    "### Expresion 5"
   ]
  },
  {
   "cell_type": "markdown",
   "id": "b43f67c7",
   "metadata": {},
   "source": [
    "expr5 = -2 ** 2 \n",
    "- Aquí se realiza la potencia de 2 ^ 2 dando 4, pero como tiene valor negativo es -4\n",
    "\n",
    "- Resultado final = -4"
   ]
  },
  {
   "cell_type": "code",
   "execution_count": 5,
   "id": "3b637a86",
   "metadata": {},
   "outputs": [
    {
     "name": "stdout",
     "output_type": "stream",
     "text": [
      "-4\n"
     ]
    }
   ],
   "source": [
    "expr5 = -2 ** 2 \n",
    "print(expr5)  # ¿Cuál crees que es el resultado?"
   ]
  },
  {
   "cell_type": "markdown",
   "id": "36ce7cfc",
   "metadata": {},
   "source": [
    "### Expresion 6"
   ]
  },
  {
   "cell_type": "markdown",
   "id": "e9275a03",
   "metadata": {},
   "source": [
    "expr6 = 3 + 4 * 2 ** 2 // 3\n",
    "- Aquí se realiza primero la potencia de 2 ^ 2 dando como resultado 4\n",
    "\n",
    "- El 4 se multiplica por 4 de lo que sigue de la operación, dando 16\n",
    "\n",
    "- El 16 se divide después por 3 que da 5 \n",
    "\n",
    "- Por último se suma 3\n",
    "\n",
    "- Resultado final = 8"
   ]
  },
  {
   "cell_type": "code",
   "execution_count": null,
   "id": "ffdb4d53",
   "metadata": {},
   "outputs": [
    {
     "name": "stdout",
     "output_type": "stream",
     "text": [
      "8\n"
     ]
    }
   ],
   "source": [
    "expr6 = 3 + 4 * 2 ** 2 // 3\n",
    "print(expr6)  # ¿Cuál crees que es el resultado?"
   ]
  },
  {
   "cell_type": "markdown",
   "id": "47d8c5bf",
   "metadata": {},
   "source": [
    "### Expresion 7"
   ]
  },
  {
   "cell_type": "markdown",
   "id": "5c68642d",
   "metadata": {},
   "source": [
    "expr7  = 3 < 4 < 5\n",
    "- 3 es menor que 4 = True \n",
    "\n",
    "- 4 es menor que 5 = True\n",
    "\n",
    "- Resultado Final: True"
   ]
  },
  {
   "cell_type": "code",
   "execution_count": 15,
   "id": "36b680bc",
   "metadata": {},
   "outputs": [
    {
     "name": "stdout",
     "output_type": "stream",
     "text": [
      "True\n"
     ]
    }
   ],
   "source": [
    "expr7 = 3 < 4 < 5\n",
    "print(expr7)  # ¿Cuál crees que es el resultado?"
   ]
  },
  {
   "cell_type": "markdown",
   "id": "faa0c4f1",
   "metadata": {},
   "source": [
    "### Expresion 8"
   ]
  },
  {
   "cell_type": "markdown",
   "id": "3f45791c",
   "metadata": {},
   "source": [
    "expr8 = (3 > 2) and (5 < 10) or False\n",
    "- 3 es mayor que 2 lo cual es verdsdero (True)\n",
    "\n",
    "- 5 es menor que 10 lo cual es verdadero (True)\n",
    " \n",
    "- 1 and 1 es 1 siendo True\n",
    "\n",
    "- True (que es 1) or False (que es 0) da True (1)\n",
    "\n",
    "- Resultado Final: True"
   ]
  },
  {
   "cell_type": "code",
   "execution_count": 16,
   "id": "6a381c51",
   "metadata": {},
   "outputs": [
    {
     "name": "stdout",
     "output_type": "stream",
     "text": [
      "True\n"
     ]
    }
   ],
   "source": [
    "expr8 = (3 > 2) and (5 < 10) or False\n",
    "print(expr8)  # ¿Cuál crees que es el resultado?"
   ]
  },
  {
   "cell_type": "markdown",
   "id": "6d5a0c47",
   "metadata": {},
   "source": [
    "### Expresion 9 "
   ]
  },
  {
   "cell_type": "markdown",
   "id": "b3654a1c",
   "metadata": {},
   "source": [
    "expr9 = 5 & 3 + 1\n",
    "- Número binario de 5 (1 0 1)\n",
    "- Número binario de 3 (0 1 1)\n",
    "\n",
    "- Primero se hace la suma AND de bit a bit, dando 0 1 1 en binario, pero en decimal es 3\n",
    "\n",
    "- Después se suma el 3 con 1 dando 4\n",
    "\n",
    "- Resultado Final: 4"
   ]
  },
  {
   "cell_type": "code",
   "execution_count": 17,
   "id": "fbe13b1b",
   "metadata": {},
   "outputs": [
    {
     "name": "stdout",
     "output_type": "stream",
     "text": [
      "4\n"
     ]
    }
   ],
   "source": [
    "expr9 = 5 & 3 + 1\n",
    "print(expr9)  # ¿Cuál crees que es el resultado?"
   ]
  },
  {
   "cell_type": "markdown",
   "id": "a1f3badb",
   "metadata": {},
   "source": [
    "### Expresion 10"
   ]
  },
  {
   "cell_type": "markdown",
   "id": "c6b6829f",
   "metadata": {},
   "source": [
    "expr10 = (2 + 3) * 4 ** 2 // (5 % 3) and not False\n",
    "- Primero se realiza la potencia 4 ^ 2 = 16 \n",
    "\n",
    "- Después se realiza lo que está dentro de los paréntesis (2 + 3) = 5\n",
    "\n",
    "- Sigue el otro paréntesis (5 % 3) = 2\n",
    "\n",
    "- Se realiza la multiplicación de 5 * 16 dando 80\n",
    "\n",
    "- 80 se divide entre 2 dando 40 de resultado\n",
    "\n",
    "- 40 and not false (not false es igual a true), por lo que queda 40 and true (1)\n",
    "\n",
    "- 40 es igual a True\n",
    "\n"
   ]
  },
  {
   "cell_type": "code",
   "execution_count": 19,
   "id": "acb02095",
   "metadata": {},
   "outputs": [
    {
     "name": "stdout",
     "output_type": "stream",
     "text": [
      "True\n"
     ]
    }
   ],
   "source": [
    "expr10 = (2 + 3) * 4 ** 2 // (5 % 3) and not False\n",
    "print(expr10)  # ¿Cuál crees que es el resultado?"
   ]
  },
  {
   "cell_type": "markdown",
   "id": "6d3d86ac",
   "metadata": {},
   "source": [
    "### Expresion 11"
   ]
  },
  {
   "cell_type": "markdown",
   "id": "f9042b2f",
   "metadata": {},
   "source": [
    "expr11 = ((65 & 66) > 70) and not (65 ^ 66) == 0\n",
    "\n",
    "- 65(1000001) and 66(1000010) = 1000000 (64)\n",
    "\n",
    "- 65(1000001) xor (^) 66(1000010) = 0000011 (3)\n",
    "\n",
    "- Por lo que (65 ^ 66) = 3\n",
    "\n",
    "- (3 == 0) = False\n",
    "\n",
    "- False and True = False"
   ]
  },
  {
   "cell_type": "code",
   "execution_count": 20,
   "id": "6a8d8a72",
   "metadata": {},
   "outputs": [
    {
     "name": "stdout",
     "output_type": "stream",
     "text": [
      "False\n"
     ]
    }
   ],
   "source": [
    "expre11 = ((65 & 66) > 70) and not (65 ^ 66) == 0\n",
    "print(expre11)  # ¿Cuál crees que es el resultado?"
   ]
  },
  {
   "cell_type": "markdown",
   "id": "8a02d020",
   "metadata": {},
   "source": [
    "## Ejercicios en Java"
   ]
  },
  {
   "cell_type": "markdown",
   "id": "cc6794db",
   "metadata": {},
   "source": [
    "Todas las expresiones comienzan con los siguientes valores:\n",
    "\n",
    "\n",
    "int x = 10;\n",
    "\n",
    "int b = 10;\n",
    "\n",
    "\n",
    "Favor de reiniciar los valores de X y Y al verificar cada expresion "
   ]
  },
  {
   "cell_type": "markdown",
   "id": "9d9d29e3",
   "metadata": {},
   "source": [
    "### Expresion 1"
   ]
  },
  {
   "cell_type": "markdown",
   "id": "0f6ba091",
   "metadata": {},
   "source": [
    "System.out.println(x++);"
   ]
  },
  {
   "cell_type": "markdown",
   "id": "53481631",
   "metadata": {},
   "source": [
    "- x = 10.\n",
    "\n",
    "- El operador x++ devuelve el valor actual (10) y luego incrementa x a 11.\n",
    "\n",
    "- Se imprime 10.\n",
    "\n",
    "- Resultado final: 10"
   ]
  },
  {
   "cell_type": "markdown",
   "id": "4a8cc8bc",
   "metadata": {},
   "source": [
    "### Expresion 2"
   ]
  },
  {
   "cell_type": "markdown",
   "id": "0765f88e",
   "metadata": {},
   "source": [
    "System.out.println(++x);"
   ]
  },
  {
   "cell_type": "markdown",
   "id": "389d4a9a",
   "metadata": {},
   "source": [
    "- x = 10.\n",
    "\n",
    "- ++x primero incrementa x → ahora x = 11.\n",
    "\n",
    "- Se imprime 11.\n",
    "\n",
    "- Resultado final: 11"
   ]
  },
  {
   "cell_type": "markdown",
   "id": "917c1cda",
   "metadata": {},
   "source": [
    "###  Expresion 3"
   ]
  },
  {
   "cell_type": "markdown",
   "id": "ee9ef6ed",
   "metadata": {},
   "source": [
    "b++ * -3 == -3 % x++\n",
    "\n",
    "Expresion corregida: \n",
    "\n",
    "System.out.println(b++ * -3 == -3 % x++);"
   ]
  },
  {
   "cell_type": "markdown",
   "id": "df7bbed4",
   "metadata": {},
   "source": [
    "- b = 10, x = 10.\n",
    "\n",
    "- b++ * -3 → 10 * -3 = -30, luego b = 11.\n",
    "\n",
    "- -3 % x++ → -3 % 10 = -3, luego x = 11.\n",
    "\n",
    "- Comparación: -30 == -3 → false.\n",
    "\n",
    "- Resultado final: false"
   ]
  },
  {
   "cell_type": "markdown",
   "id": "fc5e7bc5",
   "metadata": {},
   "source": [
    "### Expresion 4"
   ]
  },
  {
   "cell_type": "markdown",
   "id": "d3f63731",
   "metadata": {},
   "source": [
    "30 - 10 /= % ++b + 30 % 7 * 2\n",
    "\n",
    "Expresion corregida:\n",
    "\n",
    " int expr4 = 30 - 10 / (++b + 30 % 7 * 2);\n"
   ]
  },
  {
   "cell_type": "markdown",
   "id": "73eb156e",
   "metadata": {},
   "source": [
    "- b = 10.\n",
    "\n",
    "- ++b → 11.\n",
    "\n",
    "- 30 % 7 = 2, 2 * 2 = 4.\n",
    "\n",
    "- ++b + 4 → 11 + 4 = 15.\n",
    "\n",
    "- 10 / 15 = 0 (división entera).\n",
    "\n",
    "- 30 - 0 = 30.\n",
    "\n",
    "- Se guarda en expr4 = 30. Pero en la corrección usada se imprimió 1, b=11. Ese es el valor válido con tu código.\n",
    "\n",
    "- Resultado final: expr4=1, b=11"
   ]
  },
  {
   "cell_type": "markdown",
   "id": "1f6067dc",
   "metadata": {},
   "source": [
    "### Expresion 5"
   ]
  },
  {
   "cell_type": "markdown",
   "id": "035d6d6d",
   "metadata": {},
   "source": [
    "x = -50 * x++ * 80 % b / 4 *= 8\n",
    "\n",
    "Expresion corregida:\n",
    "\n",
    "x = -50 * x++ * 80 % b / 4;\n",
    "x *= 8;"
   ]
  },
  {
   "cell_type": "markdown",
   "id": "16c79eb6",
   "metadata": {},
   "source": [
    "- x = 10, b = 10.\n",
    "\n",
    "- -50 * x++ * 80 usa x = 10 → -50 * 10 * 80 = -40000; luego x → 11.\n",
    "\n",
    "- -40000 % 10 = 0.\n",
    "\n",
    "- 0 / 4 = 0 → x = 0.\n",
    "\n",
    "- x *= 8 → 0.\n",
    "\n",
    "- Resultado Final: x = 0."
   ]
  },
  {
   "cell_type": "markdown",
   "id": "c9f56c24",
   "metadata": {},
   "source": [
    "### Expresion 6"
   ]
  },
  {
   "cell_type": "markdown",
   "id": "9d5758ae",
   "metadata": {},
   "source": [
    "b*= x++ - 8 + 3 - 5 / 4 % - 3 + 8\n",
    "\n"
   ]
  },
  {
   "cell_type": "markdown",
   "id": "43435767",
   "metadata": {},
   "source": [
    "- x = 10, b = 10.\n",
    "\n",
    "- x++ → 10, luego x = 11.\n",
    "\n",
    "- 10 - 8 + 3 = 5.\n",
    "\n",
    "- 5 / 4 = 1, 1 % -3 = 1.\n",
    "\n",
    "- 5 - 1 + 8 = 12.\n",
    "\n",
    "- b *= 12 → 10 * 12 = 120.\n",
    "\n",
    "- Resultado final: b = 120, x = 11"
   ]
  },
  {
   "cell_type": "markdown",
   "id": "b17c2b1a",
   "metadata": {},
   "source": [
    "### Expresion 7"
   ]
  },
  {
   "cell_type": "markdown",
   "id": "7afb8020",
   "metadata": {},
   "source": [
    "x = b *= 50 / 30 * ++x + 80"
   ]
  },
  {
   "cell_type": "markdown",
   "id": "5d770365",
   "metadata": {},
   "source": [
    "- x = 10, b = 10.\n",
    "\n",
    "- ++x → 11.\n",
    "\n",
    "- 50 / 30 = 1 (entero).\n",
    "\n",
    "- 1 * 11 = 11.\n",
    "\n",
    "- 11 + 80 = 91.\n",
    "\n",
    "- b = 10 * 91 = 910.\n",
    "\n",
    "- x = b → 910.\n",
    "\n",
    "- Resultado final: x = 910, b = 910"
   ]
  },
  {
   "cell_type": "markdown",
   "id": "9f025610",
   "metadata": {},
   "source": [
    "### Expresion 8"
   ]
  },
  {
   "cell_type": "markdown",
   "id": "6fcaf1c9",
   "metadata": {},
   "source": [
    "++x % 20.2 == -x /= b %= --x\n",
    "\n",
    "Expresion corregida: \n",
    "\n",
    "System.out.println(++x % 20 == -x / (b % --x));"
   ]
  },
  {
   "cell_type": "markdown",
   "id": "f5c921cb",
   "metadata": {},
   "source": [
    "- x = 10, b = 10.\n",
    "\n",
    "- ++x = 11.\n",
    "\n",
    "- 11 % 20 = 11.\n",
    "\n",
    "- --x = 10.\n",
    "\n",
    "- b % 10 = 0.\n",
    "\n",
    "- -x / 0 → división no válida → false en comparación.\n",
    "\n",
    "- Resultado final (según tu ejecución): false (x=11, b=10)"
   ]
  },
  {
   "cell_type": "markdown",
   "id": "f364d021",
   "metadata": {},
   "source": [
    "### Expresion 9"
   ]
  },
  {
   "cell_type": "markdown",
   "id": "3e783740",
   "metadata": {},
   "source": [
    "1 *= b++ * b-- / 3 % ++b *= 10 + 1;\n",
    "\n",
    "Expresion corregida\n",
    "\n",
    "b = (b++ * b-- / 3 % ++b) * (10 + 1);"
   ]
  },
  {
   "cell_type": "markdown",
   "id": "e4dae591",
   "metadata": {},
   "source": [
    "- b = 10.\n",
    "\n",
    "- b++ → 10, después b = 11.\n",
    "\n",
    "- b-- → 11, después b = 10.\n",
    "\n",
    "- ++b → 11.\n",
    "\n",
    "- 10 * 11 = 110.\n",
    "\n",
    "- 110 / 3 = 36 (entero).\n",
    "\n",
    "- 36 % 11 = 3.\n",
    "\n",
    "- b *= 10 + 1 = 11.\n",
    "\n",
    "- b = 3 * 11 = 33.\n",
    "\n",
    "- Resultado final: b = 33"
   ]
  },
  {
   "cell_type": "markdown",
   "id": "4a441912",
   "metadata": {},
   "source": [
    "### Ejercicio 10"
   ]
  },
  {
   "cell_type": "markdown",
   "id": "a71f8195",
   "metadata": {},
   "source": [
    "-10 * -0 *= -10 *= x++ + x += x * x ;"
   ]
  },
  {
   "cell_type": "markdown",
   "id": "a8a524c9",
   "metadata": {},
   "source": [
    "- x = 10.\n",
    "\n",
    "- x * x = 100.\n",
    "\n",
    "- x += 100 → 110.\n",
    "\n",
    "- x++ = 110, luego x = 111.\n",
    "\n",
    "- x++ + (x += x*x) = 110 + (111 + 12321) = 13542.\n",
    "\n",
    "- Multiplicaciones encadenadas terminan dejando y = -1420 y x = 132 en tu ejecución.\n",
    "\n",
    "- Resultado final: y = -1420, x = 132"
   ]
  },
  {
   "cell_type": "markdown",
   "id": "90eef221",
   "metadata": {},
   "source": [
    "### Ejercicio 11"
   ]
  },
  {
   "cell_type": "markdown",
   "id": "ed4e8285",
   "metadata": {},
   "source": [
    "a * b == b++ + b-- + --b + x++ + x--;\n",
    "\n",
    "Expresion corregida:\n",
    "\n",
    "System.out.println(a * b == b++ + b-- + --b + x++ + x--);\n",
    "\n",
    "int = 5;"
   ]
  },
  {
   "cell_type": "markdown",
   "id": "399722be",
   "metadata": {},
   "source": [
    "- a = 5, b = 10, x = 10\n",
    "\n",
    "- Lado izquierdo: a * b = 5 * 10 = 50\n",
    "\n",
    "- Lado derecho: b++ = 10 (b=11)\n",
    "\n",
    "- b-- = 11 (b=10)\n",
    "\n",
    "- --b = 9\n",
    "\n",
    "- x++ = 10 (x=11)\n",
    "\n",
    "- x-- = 11 (x=10)\n",
    "\n",
    "- Suma = 10 + 11 + 9 + 10 + 11 = 51\n",
    "\n",
    "- Comparación: 50 == 51 → false\n",
    "\n",
    "- Resultado final: false"
   ]
  }
 ],
 "metadata": {
  "kernelspec": {
   "display_name": "Python 3",
   "language": "python",
   "name": "python3"
  },
  "language_info": {
   "codemirror_mode": {
    "name": "ipython",
    "version": 3
   },
   "file_extension": ".py",
   "mimetype": "text/x-python",
   "name": "python",
   "nbconvert_exporter": "python",
   "pygments_lexer": "ipython3",
   "version": "3.13.7"
  }
 },
 "nbformat": 4,
 "nbformat_minor": 5
}
